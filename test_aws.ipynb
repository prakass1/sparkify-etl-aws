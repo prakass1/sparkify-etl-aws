{
 "cells": [
  {
   "cell_type": "code",
   "execution_count": null,
   "metadata": {},
   "outputs": [],
   "source": [
    "import pandas as pd\n",
    "import matplotlib.pyplot as plt\n",
    "import os\n",
    "import boto3\n",
    "\n",
    "import configparser\n",
    "\n",
    "# CONFIG\n",
    "config = configparser.ConfigParser()\n",
    "config.read(\"dwh.cfg\")\n",
    "\n",
    "\n",
    "ACCESS_KEY = config.get(\"CLUSTER\", \"ACCESS_KEY\")\n",
    "SECRET = config.get(\"CLUSTER\", \"SECRET\")\n",
    "REGION = config.get(\"CLUSTER\", \"REGION\")"
   ]
  },
  {
   "cell_type": "code",
   "execution_count": null,
   "metadata": {},
   "outputs": [],
   "source": [
    "%load_ext sql"
   ]
  },
  {
   "cell_type": "code",
   "execution_count": null,
   "metadata": {},
   "outputs": [],
   "source": [
    "s3 = boto3.resource('s3', region_name=REGION, \n",
    "                    aws_access_key_id=ACCESS_KEY, aws_secret_access_key=SECRET)\n"
   ]
  },
  {
   "cell_type": "code",
   "execution_count": null,
   "metadata": {},
   "outputs": [],
   "source": [
    "bucket = s3.Bucket('udacity-dend')"
   ]
  },
  {
   "cell_type": "code",
   "execution_count": null,
   "metadata": {},
   "outputs": [],
   "source": [
    "for object in bucket.objects.filter(Prefix='song_data/A/A/A'):\n",
    "    print(object)"
   ]
  },
  {
   "cell_type": "code",
   "execution_count": null,
   "metadata": {},
   "outputs": [],
   "source": [
    "\n",
    "data = pd.read_json('s3://udacity-dend/song_data/A/A/A/TRAAAAK128F9318786.json',\n",
    "                    lines=True,\n",
    "                    storage_options={'key':ACCESS_KEY, 'secret':SECRET}\n",
    "                    )"
   ]
  },
  {
   "cell_type": "code",
   "execution_count": null,
   "metadata": {},
   "outputs": [],
   "source": [
    "data.head()"
   ]
  },
  {
   "cell_type": "code",
   "execution_count": null,
   "metadata": {},
   "outputs": [],
   "source": [
    "data.info()"
   ]
  },
  {
   "cell_type": "code",
   "execution_count": null,
   "metadata": {},
   "outputs": [],
   "source": [
    "log_data = pd.read_json('s3://udacity-dend/log_data/2018/11/2018-11-12-events.json', lines=True,\n",
    "                        storage_options={'key':ACCESS_KEY, 'secret':SECRET})"
   ]
  },
  {
   "cell_type": "code",
   "execution_count": null,
   "metadata": {},
   "outputs": [],
   "source": [
    "log_json_path = pd.read_json('s3://udacity-dend/log_json_path.json', lines=True,\n",
    "                        storage_options={'key':ACCESS_KEY, 'secret':SECRET})"
   ]
  },
  {
   "cell_type": "code",
   "execution_count": null,
   "metadata": {},
   "outputs": [],
   "source": [
    "log_json_path.head()"
   ]
  },
  {
   "cell_type": "code",
   "execution_count": null,
   "metadata": {},
   "outputs": [],
   "source": [
    "log_data.head()"
   ]
  },
  {
   "cell_type": "code",
   "execution_count": null,
   "metadata": {},
   "outputs": [],
   "source": [
    "log_data.info()\n"
   ]
  }
 ],
 "metadata": {
  "interpreter": {
   "hash": "7d3c62264b22686eb7e0c0b1f5b7f6f6fb8370429041eeb4c3abbb4d9455734b"
  },
  "kernelspec": {
   "display_name": "Python 3.8.10 ('.venv': venv)",
   "language": "python",
   "name": "python3"
  },
  "language_info": {
   "codemirror_mode": {
    "name": "ipython",
    "version": 3
   },
   "file_extension": ".py",
   "mimetype": "text/x-python",
   "name": "python",
   "nbconvert_exporter": "python",
   "pygments_lexer": "ipython3",
   "version": "3.8.10"
  },
  "orig_nbformat": 4
 },
 "nbformat": 4,
 "nbformat_minor": 2
}
